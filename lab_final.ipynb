{
  "cells": [
    {
      "cell_type": "markdown",
      "metadata": {
        "id": "TwOcgMcAnEQN"
      },
      "source": [
        "# AI lab final\n",
        "# Submitted by Mehdi Hussain\n",
        "# Submitted to Dr Ahmed khan"
      ]
    },
    {
      "cell_type": "markdown",
      "metadata": {
        "id": "ohqGXZbwafR5"
      },
      "source": [
        "##Importing Libraries"
      ]
    },
    {
      "cell_type": "code",
      "execution_count": 1,
      "metadata": {
        "id": "ZmdOfeylasKZ"
      },
      "outputs": [],
      "source": [
        "import numpy as np\n",
        "import pandas as pd\n",
        "import tensorflow as tf\n",
        "from keras.models import Sequential\n",
        "from keras.layers import Dense, Dropout, Flatten, Activation, BatchNormalization, Conv2D, MaxPooling2D, AveragePooling2D\n",
        "from keras.optimizers import Adam\n",
        "from keras.utils import to_categorical\n",
        "from keras.datasets import cifar10\n",
        "import keras as k\n",
        "import os\n",
        "from keras.preprocessing import image\n",
        "from keras.preprocessing.image import ImageDataGenerator\n",
        "from keras.callbacks import EarlyStopping"
      ]
    },
    {
      "cell_type": "markdown",
      "metadata": {
        "id": "j33yGHrFakzQ"
      },
      "source": [
        "##unpacking Data"
      ]
    },
    {
      "cell_type": "code",
      "execution_count": 2,
      "metadata": {
        "colab": {
          "base_uri": "https://localhost:8080/"
        },
        "id": "0fZXtwhxjWDk",
        "outputId": "306f1174-dacf-4bba-82d7-d5406deca4c5"
      },
      "outputs": [
        {
          "name": "stdout",
          "output_type": "stream",
          "text": [
            "Downloading data from https://www.cs.toronto.edu/~kriz/cifar-10-python.tar.gz\n",
            "170498071/170498071 [==============================] - 3s 0us/step\n",
            "x_train shape: (50000, 32, 32, 3)\n",
            "50000 train samples\n",
            "10000 test samples\n"
          ]
        }
      ],
      "source": [
        "batch_size = 128\n",
        "num_classes = 10\n",
        "epochs = 15\n",
        "\n",
        "(x_train, y_train), (x_test, y_test) = cifar10.load_data()\n",
        "img_rows, img_cols , channels= 32,32,3\n",
        "\n",
        "x_train = x_train.reshape(x_train.shape[0], img_rows, img_cols, channels)\n",
        "x_test = x_test.reshape(x_test.shape[0], img_rows, img_cols, channels)\n",
        "input_shape = (img_rows, img_cols, 1)\n",
        "print('x_train shape:', x_train.shape)\n",
        "print(x_train.shape[0], 'train samples')\n",
        "print(x_test.shape[0], 'test samples')\n",
        "\n",
        "x_train=x_train.astype(\"float32\")\n",
        "x_test=x_test.astype(\"float32\")\n",
        "\n",
        "mean=np.mean(x_train)\n",
        "std=np.std(x_train)\n",
        "x_test=(x_test-mean)/std\n",
        "x_train=(x_train-mean)/std\n",
        "\n",
        "\n",
        "y_train = k.utils.to_categorical(y_train, num_classes)\n",
        "y_test = k.utils.to_categorical(y_test, num_classes)\n",
        "\n",
        "\n"
      ]
    },
    {
      "cell_type": "markdown",
      "metadata": {
        "id": "D3MLTL_KmxOX"
      },
      "source": [
        "##Image Augmentation"
      ]
    },
    {
      "cell_type": "code",
      "execution_count": 3,
      "metadata": {
        "id": "iXdaM-DjkkAG"
      },
      "outputs": [],
      "source": [
        "datagen = ImageDataGenerator(\n",
        "    rotation_range=15,\n",
        "    horizontal_flip=True,\n",
        "    width_shift_range=0.1,\n",
        "    height_shift_range=0.1\n",
        "#    zoom_range=0.3\n",
        "    )\n",
        "datagen.fit(x_train)"
      ]
    },
    {
      "cell_type": "markdown",
      "metadata": {
        "id": "ScrHPXZOmomi"
      },
      "source": [
        "#Model TRAINING"
      ]
    },
    {
      "cell_type": "code",
      "execution_count": 4,
      "metadata": {
        "colab": {
          "base_uri": "https://localhost:8080/"
        },
        "id": "kqhzTMuvjebB",
        "outputId": "7d7e56bb-68ae-444b-c3f7-11cc27e22bf6"
      },
      "outputs": [
        {
          "name": "stdout",
          "output_type": "stream",
          "text": [
            "Model: \"sequential\"\n",
            "_________________________________________________________________\n",
            " Layer (type)                Output Shape              Param #   \n",
            "=================================================================\n",
            " conv2d (Conv2D)             (None, 30, 30, 32)        896       \n",
            "                                                                 \n",
            " max_pooling2d (MaxPooling2  (None, 15, 15, 32)        0         \n",
            " D)                                                              \n",
            "                                                                 \n",
            " dropout (Dropout)           (None, 15, 15, 32)        0         \n",
            "                                                                 \n",
            " conv2d_1 (Conv2D)           (None, 13, 13, 64)        18496     \n",
            "                                                                 \n",
            " max_pooling2d_1 (MaxPoolin  (None, 6, 6, 64)          0         \n",
            " g2D)                                                            \n",
            "                                                                 \n",
            " dropout_1 (Dropout)         (None, 6, 6, 64)          0         \n",
            "                                                                 \n",
            " conv2d_2 (Conv2D)           (None, 4, 4, 128)         73856     \n",
            "                                                                 \n",
            " max_pooling2d_2 (MaxPoolin  (None, 2, 2, 128)         0         \n",
            " g2D)                                                            \n",
            "                                                                 \n",
            " dropout_2 (Dropout)         (None, 2, 2, 128)         0         \n",
            "                                                                 \n",
            " flatten (Flatten)           (None, 512)               0         \n",
            "                                                                 \n",
            " dense (Dense)               (None, 80)                41040     \n",
            "                                                                 \n",
            " dropout_3 (Dropout)         (None, 80)                0         \n",
            "                                                                 \n",
            " dense_1 (Dense)             (None, 10)                810       \n",
            "                                                                 \n",
            "=================================================================\n",
            "Total params: 135098 (527.73 KB)\n",
            "Trainable params: 135098 (527.73 KB)\n",
            "Non-trainable params: 0 (0.00 Byte)\n",
            "_________________________________________________________________\n",
            "None\n"
          ]
        }
      ],
      "source": [
        "model = Sequential()\n",
        "\n",
        "\n",
        "model.add(Conv2D(32, kernel_size=(3, 3), input_shape=x_train.shape[1:], activation =\"relu\"))\n",
        "model.add(MaxPooling2D(pool_size=(2, 2)))\n",
        "model.add(Dropout(0.3))\n",
        "\n",
        "model.add(Conv2D(64, kernel_size=(3, 3), input_shape=x_train.shape[1:], activation =\"relu\"))\n",
        "model.add(MaxPooling2D(pool_size=(2, 2)))\n",
        "model.add(Dropout(0.3))\n",
        "\n",
        "model.add(Conv2D(128, kernel_size=(3, 3), input_shape=x_train.shape[1:], activation =\"relu\"))\n",
        "model.add(MaxPooling2D(pool_size=(2, 2)))\n",
        "model.add(Dropout(0.4))\n",
        "\n",
        "model.add(Flatten())\n",
        "model.add(Dense(80, activation='relu'))\n",
        "model.add(Dropout(0.3))\n",
        "model.add(Dense(num_classes, activation='softmax'))\n",
        "print(model.summary())\n",
        "\n"
      ]
    },
    {
      "cell_type": "code",
      "execution_count": null,
      "metadata": {
        "colab": {
          "base_uri": "https://localhost:8080/"
        },
        "id": "M7vCloJdksHs",
        "outputId": "89413a81-7b80-41b0-8309-14ad37cc2c3e"
      },
      "outputs": [
        {
          "name": "stderr",
          "output_type": "stream",
          "text": [
            "<ipython-input-5-1b4cd994c8cd>:2: UserWarning: `Model.fit_generator` is deprecated and will be removed in a future version. Please use `Model.fit`, which supports generators.\n",
            "  history1 = model.fit_generator(datagen.flow(x_train, y_train, batch_size=batch_size),\\\n"
          ]
        },
        {
          "name": "stdout",
          "output_type": "stream",
          "text": [
            "Epoch 1/125\n",
            "390/390 [==============================] - 38s 75ms/step - loss: 1.8420 - accuracy: 0.3124 - val_loss: 1.4568 - val_accuracy: 0.4663\n",
            "Epoch 2/125\n",
            "390/390 [==============================] - 29s 75ms/step - loss: 1.5344 - accuracy: 0.4408 - val_loss: 1.2757 - val_accuracy: 0.5549\n",
            "Epoch 3/125\n",
            "390/390 [==============================] - 30s 77ms/step - loss: 1.4147 - accuracy: 0.4890 - val_loss: 1.1871 - val_accuracy: 0.5804\n",
            "Epoch 4/125\n",
            "390/390 [==============================] - 30s 76ms/step - loss: 1.3473 - accuracy: 0.5151 - val_loss: 1.1087 - val_accuracy: 0.6117\n",
            "Epoch 5/125\n",
            "390/390 [==============================] - 29s 74ms/step - loss: 1.2832 - accuracy: 0.5443 - val_loss: 1.0678 - val_accuracy: 0.6236\n",
            "Epoch 6/125\n",
            "390/390 [==============================] - 28s 73ms/step - loss: 1.2418 - accuracy: 0.5598 - val_loss: 1.0545 - val_accuracy: 0.6323\n",
            "Epoch 7/125\n",
            "390/390 [==============================] - 28s 72ms/step - loss: 1.2061 - accuracy: 0.5720 - val_loss: 0.9834 - val_accuracy: 0.6607\n",
            "Epoch 8/125\n",
            "390/390 [==============================] - 29s 74ms/step - loss: 1.1764 - accuracy: 0.5853 - val_loss: 0.9676 - val_accuracy: 0.6565\n",
            "Epoch 9/125\n",
            "390/390 [==============================] - 29s 74ms/step - loss: 1.1518 - accuracy: 0.5933 - val_loss: 0.9457 - val_accuracy: 0.6674\n",
            "Epoch 10/125\n",
            "390/390 [==============================] - 30s 76ms/step - loss: 1.1310 - accuracy: 0.6014 - val_loss: 0.9418 - val_accuracy: 0.6723\n",
            "Epoch 11/125\n",
            "390/390 [==============================] - 28s 72ms/step - loss: 1.1154 - accuracy: 0.6075 - val_loss: 0.8868 - val_accuracy: 0.6926\n",
            "Epoch 12/125\n",
            "390/390 [==============================] - 28s 73ms/step - loss: 1.0988 - accuracy: 0.6122 - val_loss: 0.8695 - val_accuracy: 0.6954\n",
            "Epoch 13/125\n",
            "390/390 [==============================] - 29s 74ms/step - loss: 1.0861 - accuracy: 0.6175 - val_loss: 0.8534 - val_accuracy: 0.7019\n",
            "Epoch 14/125\n",
            "390/390 [==============================] - 28s 72ms/step - loss: 1.0721 - accuracy: 0.6254 - val_loss: 0.9089 - val_accuracy: 0.6797\n",
            "Epoch 15/125\n",
            "390/390 [==============================] - 28s 71ms/step - loss: 1.0665 - accuracy: 0.6263 - val_loss: 0.8695 - val_accuracy: 0.6926\n",
            "Epoch 16/125\n",
            "390/390 [==============================] - 29s 73ms/step - loss: 1.0481 - accuracy: 0.6339 - val_loss: 0.8500 - val_accuracy: 0.7018\n",
            "Epoch 17/125\n",
            "390/390 [==============================] - 28s 72ms/step - loss: 1.0428 - accuracy: 0.6374 - val_loss: 0.8073 - val_accuracy: 0.7168\n",
            "Epoch 18/125\n",
            "390/390 [==============================] - 30s 76ms/step - loss: 1.0337 - accuracy: 0.6395 - val_loss: 0.7965 - val_accuracy: 0.7232\n",
            "Epoch 19/125\n",
            "390/390 [==============================] - 29s 74ms/step - loss: 1.0245 - accuracy: 0.6428 - val_loss: 0.8214 - val_accuracy: 0.7152\n",
            "Epoch 20/125\n",
            "390/390 [==============================] - 30s 78ms/step - loss: 1.0115 - accuracy: 0.6462 - val_loss: 0.7836 - val_accuracy: 0.7259\n",
            "Epoch 21/125\n",
            "325/390 [========================>.....] - ETA: 4s - loss: 1.0156 - accuracy: 0.6451"
          ]
        }
      ],
      "source": [
        "model.compile(loss='categorical_crossentropy', optimizer=tf.keras.optimizers.Adam(), metrics=['accuracy'])\n",
        "history1 = model.fit_generator(datagen.flow(x_train, y_train, batch_size=batch_size),\\\n",
        "                    steps_per_epoch=x_train.shape[0] // batch_size,epochs=125,\\\n",
        "                    verbose=1,validation_data=(x_test,y_test))"
      ]
    },
    {
      "cell_type": "code",
      "execution_count": null,
      "metadata": {
        "id": "-CRwkXwCoxeW"
      },
      "outputs": [],
      "source": []
    }
  ],
  "metadata": {
    "accelerator": "GPU",
    "colab": {
      "gpuType": "T4",
      "provenance": []
    },
    "kernelspec": {
      "display_name": "Python 3",
      "name": "python3"
    },
    "language_info": {
      "name": "python"
    }
  },
  "nbformat": 4,
  "nbformat_minor": 0
}
